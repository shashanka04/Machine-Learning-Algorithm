{
  "nbformat": 4,
  "nbformat_minor": 0,
  "metadata": {
    "colab": {
      "provenance": []
    },
    "kernelspec": {
      "name": "python3",
      "display_name": "Python 3"
    },
    "language_info": {
      "name": "python"
    }
  },
  "cells": [
    {
      "cell_type": "markdown",
      "source": [
        "Q1.Explain the terms Artificial Intelligence (AI), Machine Learning (ML)and Deep Learning.\n",
        "\n",
        "Artificial Intelligence (AI):\n",
        "\n",
        "-Branch of computer science that emphasizes on the creation of intelligent machines that work and react like humans.\n",
        "\n",
        "Machine Learning (ML):\n",
        "\n",
        "-A subset of AI which gives a machine that ability to learn without being explicity programmed.\n",
        "\n",
        "Deep Learning (DL):\n",
        "\n",
        "-Subset of Machine learning concerened with alogrithms inspired by the structure and function of the brain called artificial neural networks."
      ],
      "metadata": {
        "id": "HjKOrFfDeRjJ"
      }
    },
    {
      "cell_type": "markdown",
      "source": [
        "Q2. Explain Supervised Learning.\n",
        "\n",
        "-Learning from the labeled data and applying the knowledge to predict the label of the new data (test data) is known as Supervised learning.\n",
        "\n",
        "-Supervised Learning contains features and target.\n",
        "\n",
        "-To predict the output we train model with features and target and get desired ouput."
      ],
      "metadata": {
        "id": "0CTYk0FMf0na"
      }
    },
    {
      "cell_type": "markdown",
      "source": [
        "Q3.Explain Unsupervised Learning.\n",
        "\n",
        "-The learning method which uses the technique of grouping / clustering the unlabeled data together based on its physical Characteristics and predicting the cluster of the new data (test data) is known as unsupervised machine learning.\n",
        "\n",
        "-In Unsupervised learning only the features of date is used."
      ],
      "metadata": {
        "id": "QKCWl4JJgkrB"
      }
    },
    {
      "cell_type": "markdown",
      "source": [
        "Q4.Explain ReinforcementLearning.\n",
        "\n",
        "-It is a hit-and-trail method of learning.\n",
        "\n",
        "-The machine gets a reward or penalty for each action it performes.\n",
        "\n",
        "-If the option is correct,the machine gains reward point.\n",
        "\n",
        "-If the option is incorrect,the machine gets a penalty point.\n",
        "\n",
        "\n"
      ],
      "metadata": {
        "id": "aHCwzhdNgnlj"
      }
    },
    {
      "cell_type": "markdown",
      "source": [
        "Q5.  How  to  find  the best  machine  learning  algorithm  for  your problem?\n",
        "\n",
        "-To identify the best machine learning algorithm, follow a structured approach:\n",
        "\n",
        "*Understand the problem\n",
        "\n",
        "*Preprocess data\n",
        "\n",
        "*Start with simple models\n",
        "\n",
        "*Experiment with diverse algorithms\n",
        "\n",
        "-Iterate, compare results, and select the algorithm that performs best on your data and metrics.\n"
      ],
      "metadata": {
        "id": "jdDQA9ukgqq-"
      }
    }
  ]
}